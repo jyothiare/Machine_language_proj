{
 "cells": [
  {
   "cell_type": "code",
   "execution_count": 2,
   "metadata": {},
   "outputs": [
    {
     "data": {
      "image/png": "[encoded data removed]",
      "text/plain": [
       "<matplotlib.figure.Figure at 0x8487e90>"
      ]
     },
     "metadata": {},
     "output_type": "display_data"
    }
   ],
   "source": [
    "import sys\n",
    "sys.path.append(\"C:/JBasineni/Mach_learn/ud120-projects-master/ud120-projects-master/tools/\")\n",
    "sys.path.append('C:/JBasineni/Mach_learn/ud120-projects-master/ud120-projects-master/choose_your_own')\n",
    "sys.path.append('C:/JBasineni/Mach_learn/ud120-projects-master/ud120-projects-master/datasets_questions')\n",
    "\n",
    "import os\n",
    "os.chdir('C:/JBasineni/Mach_learn/ud120-projects-master/ud120-projects-master/outliers')\n",
    "\n",
    "\n",
    "import pickle\n",
    "import numpy\n",
    "import matplotlib.pyplot as plt\n",
    "from feature_format import featureFormat, targetFeatureSplit\n",
    "\n",
    "%matplotlib inline\n",
    "\n",
    "\n",
    "\n",
    "def Draw(pred, features, poi, mark_poi=True, name=\"image.png\", f1_name=\"feature 1\", f2_name=\"feature 2\"):\n",
    "    \"\"\" some plotting code designed to help you visualize your clusters \"\"\"\n",
    "\n",
    "    ### plot each cluster with a different color--add more colors for\n",
    "    ### drawing more than five clusters\n",
    "    colors = [\"b\", \"c\", \"k\", \"m\", \"g\"]\n",
    "    for ii, pp in enumerate(pred):\n",
    "        plt.scatter(features[ii][0], features[ii][1], color = colors[pred[ii]])\n",
    "\n",
    "    ### if you like, place red stars over points that are POIs (just for funsies)\n",
    "    if mark_poi:\n",
    "        for ii, pp in enumerate(pred):\n",
    "            if poi[ii]:\n",
    "                plt.scatter(features[ii][0], features[ii][1], color=\"r\", marker=\"*\")\n",
    "    plt.xlabel(f1_name)\n",
    "    plt.ylabel(f2_name)\n",
    "\n",
    "\n",
    "\n",
    "### load in the dict of dicts containing all the data on each person in the dataset\n",
    "data_dict = pickle.load( open(\"../final_project/final_project_dataset.pkl\", \"rb\") )\n",
    "### there's an outlier--remove it! \n",
    "data_dict.pop(\"TOTAL\", 0)\n",
    "\n",
    "\n",
    "# the features to be used\n",
    "features_list = ['poi', 'salary', 'exercised_stock_options']\n",
    "\n",
    "def finance_kmeans(data_dict, features_list):\n",
    "    data = featureFormat(data_dict, features_list )\n",
    "    poi, finance_features = targetFeatureSplit( data )\n",
    "\n",
    "    # plot the first 2 features\n",
    "    for f in finance_features:\n",
    "        plt.scatter( f[0], f[1] )\n",
    "\n",
    "    # k-means clustering\n",
    "    from sklearn.cluster import KMeans\n",
    "    clf = KMeans(2)\n",
    "    clf.fit(finance_features)\n",
    "    pred = clf.predict(finance_features)\n",
    "\n",
    "    # show the clustering\n",
    "    Draw(pred, finance_features, poi, mark_poi=False, name=\"clusters.pdf\", f1_name=features_list[1], f2_name=features_list[2])\n",
    "    \n",
    "    return None\n",
    "    \n",
    "\n",
    "finance_kmeans(data_dict, features_list)\n"
   ]
  },
  {
   "cell_type": "code",
   "execution_count": 3,
   "metadata": {},
   "outputs": [
    {
     "data": {
      "image/png": "[encoded data removed]",
      "text/plain": [
       "<matplotlib.figure.Figure at 0x8487090>"
      ]
     },
     "metadata": {},
     "output_type": "display_data"
    }
   ],
   "source": [
    "#Clustering with 3 features\n",
    "features_list = ['poi', 'salary', 'exercised_stock_options', 'total_payments']\n",
    "\n",
    "finance_kmeans(data_dict, features_list)"
   ]
  },
  {
   "cell_type": "code",
   "execution_count": 4,
   "metadata": {},
   "outputs": [
    {
     "name": "stdout",
     "output_type": "stream",
     "text": [
      "34348384.0\n",
      "3285.0\n"
     ]
    }
   ],
   "source": [
    "#Feature scaling of maximum and minimum exercised stock options\n",
    "\n",
    "\n",
    "\n",
    "\n",
    "import pandas as pd\n",
    "\n",
    "df = pd.DataFrame(data_dict)\n",
    "df.loc['exercised_stock_options',:] = pd.to_numeric(df.loc['exercised_stock_options',:], errors='coerce')\n",
    "print( df.loc['exercised_stock_options',:].max(skipna=True))\n",
    "print (df.loc['exercised_stock_options',:].min(skipna=True))\n"
   ]
  },
  {
   "cell_type": "code",
   "execution_count": 6,
   "metadata": {},
   "outputs": [
    {
     "name": "stdout",
     "output_type": "stream",
     "text": [
      "1111258.0\n",
      "477.0\n"
     ]
    }
   ],
   "source": [
    "#Salary Range\n",
    "\n",
    "\n",
    "\n",
    "\n",
    "df.loc['salary',:] = pd.to_numeric(df.loc['salary',:], errors='coerce')\n",
    "print (df.loc['salary',:].max(skipna=True))\n",
    "print (df.loc['salary',:].min(skipna=True))\n"
   ]
  }
 ],
 "metadata": {
  "kernelspec": {
   "display_name": "Python 3",
   "language": "python",
   "name": "python3"
  },
  "language_info": {
   "codemirror_mode": {
    "name": "ipython",
    "version": 3
   },
   "file_extension": ".py",
   "mimetype": "text/x-python",
   "name": "python",
   "nbconvert_exporter": "python",
   "pygments_lexer": "ipython3",
   "version": "3.6.3"
  }
 },
 "nbformat": 4,
 "nbformat_minor": 2
}
