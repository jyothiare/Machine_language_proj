{
 "cells": [
  {
   "cell_type": "code",
   "execution_count": null,
   "metadata": {},
   "outputs": [],
   "source": []
  },
  {
   "cell_type": "code",
   "execution_count": 2,
   "metadata": {},
   "outputs": [
    {
     "name": "stdout",
     "output_type": "stream",
     "text": [
      "3.6.4\n"
     ]
    }
   ],
   "source": [
    "import platform\n",
    "\n",
    "print(platform.python_version())\n"
   ]
  },
  {
   "cell_type": "code",
   "execution_count": 6,
   "metadata": {},
   "outputs": [],
   "source": [
    "import sys\n",
    "sys.path.append(\"C:/JBasineni/Mach_learn/ud120-projects-master/ud120-projects-master/tools/\")\n",
    "sys.path.append('C:/JBasineni/Mach_learn/ud120-projects-master/ud120-projects-master/choose_your_own')\n",
    "sys.path.append('C:/JBasineni/Mach_learn/ud120-projects-master/ud120-projects-master/datasets_questions')\n",
    "#sys.path.append('C:/Users/basind/AppData/Local/Programs/Python/Python35/lib/site-packages')\n",
    "import os\n",
    "os.chdir('C:/JBasineni/Mach_learn/ud120-projects-master/ud120-projects-master/feature_selection')"
   ]
  },
  {
   "cell_type": "code",
   "execution_count": 1,
   "metadata": {},
   "outputs": [
    {
     "ename": "ImportError",
     "evalue": "Could not find 'nvcuda.dll'. TensorFlow requires that this DLL be installed in a directory that is named in your %PATH% environment variable. Typically it is installed in 'C:\\Windows\\System32'. If it is not present, ensure that you have a CUDA-capable GPU with the correct driver installed.",
     "output_type": "error",
     "traceback": [
      "\u001b[1;31m---------------------------------------------------------------------------\u001b[0m",
      "\u001b[1;31mOSError\u001b[0m                                   Traceback (most recent call last)",
      "\u001b[1;32m~\\AppData\\Local\\Continuum\\anaconda3\\lib\\site-packages\\tensorflow\\python\\platform\\self_check.py\u001b[0m in \u001b[0;36mpreload_check\u001b[1;34m()\u001b[0m\n\u001b[0;32m     61\u001b[0m         \u001b[1;32mtry\u001b[0m\u001b[1;33m:\u001b[0m\u001b[1;33m\u001b[0m\u001b[0m\n\u001b[1;32m---> 62\u001b[1;33m           \u001b[0mctypes\u001b[0m\u001b[1;33m.\u001b[0m\u001b[0mWinDLL\u001b[0m\u001b[1;33m(\u001b[0m\u001b[0mbuild_info\u001b[0m\u001b[1;33m.\u001b[0m\u001b[0mnvcuda_dll_name\u001b[0m\u001b[1;33m)\u001b[0m\u001b[1;33m\u001b[0m\u001b[0m\n\u001b[0m\u001b[0;32m     63\u001b[0m         \u001b[1;32mexcept\u001b[0m \u001b[0mOSError\u001b[0m\u001b[1;33m:\u001b[0m\u001b[1;33m\u001b[0m\u001b[0m\n",
      "\u001b[1;32m~\\AppData\\Local\\Continuum\\anaconda3\\lib\\ctypes\\__init__.py\u001b[0m in \u001b[0;36m__init__\u001b[1;34m(self, name, mode, handle, use_errno, use_last_error)\u001b[0m\n\u001b[0;32m    347\u001b[0m         \u001b[1;32mif\u001b[0m \u001b[0mhandle\u001b[0m \u001b[1;32mis\u001b[0m \u001b[1;32mNone\u001b[0m\u001b[1;33m:\u001b[0m\u001b[1;33m\u001b[0m\u001b[0m\n\u001b[1;32m--> 348\u001b[1;33m             \u001b[0mself\u001b[0m\u001b[1;33m.\u001b[0m\u001b[0m_handle\u001b[0m \u001b[1;33m=\u001b[0m \u001b[0m_dlopen\u001b[0m\u001b[1;33m(\u001b[0m\u001b[0mself\u001b[0m\u001b[1;33m.\u001b[0m\u001b[0m_name\u001b[0m\u001b[1;33m,\u001b[0m \u001b[0mmode\u001b[0m\u001b[1;33m)\u001b[0m\u001b[1;33m\u001b[0m\u001b[0m\n\u001b[0m\u001b[0;32m    349\u001b[0m         \u001b[1;32melse\u001b[0m\u001b[1;33m:\u001b[0m\u001b[1;33m\u001b[0m\u001b[0m\n",
      "\u001b[1;31mOSError\u001b[0m: [WinError 126] The specified module could not be found",
      "\nDuring handling of the above exception, another exception occurred:\n",
      "\u001b[1;31mImportError\u001b[0m                               Traceback (most recent call last)",
      "\u001b[1;32m<ipython-input-1-64156d691fe5>\u001b[0m in \u001b[0;36m<module>\u001b[1;34m()\u001b[0m\n\u001b[1;32m----> 1\u001b[1;33m \u001b[1;32mimport\u001b[0m \u001b[0mtensorflow\u001b[0m \u001b[1;32mas\u001b[0m \u001b[0mtf\u001b[0m\u001b[1;33m\u001b[0m\u001b[0m\n\u001b[0m",
      "\u001b[1;32m~\\AppData\\Local\\Continuum\\anaconda3\\lib\\site-packages\\tensorflow\\__init__.py\u001b[0m in \u001b[0;36m<module>\u001b[1;34m()\u001b[0m\n\u001b[0;32m     22\u001b[0m \u001b[1;33m\u001b[0m\u001b[0m\n\u001b[0;32m     23\u001b[0m \u001b[1;31m# pylint: disable=g-bad-import-order\u001b[0m\u001b[1;33m\u001b[0m\u001b[1;33m\u001b[0m\u001b[0m\n\u001b[1;32m---> 24\u001b[1;33m \u001b[1;32mfrom\u001b[0m \u001b[0mtensorflow\u001b[0m\u001b[1;33m.\u001b[0m\u001b[0mpython\u001b[0m \u001b[1;32mimport\u001b[0m \u001b[0mpywrap_tensorflow\u001b[0m  \u001b[1;31m# pylint: disable=unused-import\u001b[0m\u001b[1;33m\u001b[0m\u001b[0m\n\u001b[0m\u001b[0;32m     25\u001b[0m \u001b[1;31m# pylint: disable=wildcard-import\u001b[0m\u001b[1;33m\u001b[0m\u001b[1;33m\u001b[0m\u001b[0m\n\u001b[0;32m     26\u001b[0m \u001b[1;32mfrom\u001b[0m \u001b[0mtensorflow\u001b[0m\u001b[1;33m.\u001b[0m\u001b[0mtools\u001b[0m\u001b[1;33m.\u001b[0m\u001b[0mapi\u001b[0m\u001b[1;33m.\u001b[0m\u001b[0mgenerator\u001b[0m\u001b[1;33m.\u001b[0m\u001b[0mapi\u001b[0m \u001b[1;32mimport\u001b[0m \u001b[1;33m*\u001b[0m  \u001b[1;31m# pylint: disable=redefined-builtin\u001b[0m\u001b[1;33m\u001b[0m\u001b[0m\n",
      "\u001b[1;32m~\\AppData\\Local\\Continuum\\anaconda3\\lib\\site-packages\\tensorflow\\python\\__init__.py\u001b[0m in \u001b[0;36m<module>\u001b[1;34m()\u001b[0m\n\u001b[0;32m     47\u001b[0m \u001b[1;32mimport\u001b[0m \u001b[0mnumpy\u001b[0m \u001b[1;32mas\u001b[0m \u001b[0mnp\u001b[0m\u001b[1;33m\u001b[0m\u001b[0m\n\u001b[0;32m     48\u001b[0m \u001b[1;33m\u001b[0m\u001b[0m\n\u001b[1;32m---> 49\u001b[1;33m \u001b[1;32mfrom\u001b[0m \u001b[0mtensorflow\u001b[0m\u001b[1;33m.\u001b[0m\u001b[0mpython\u001b[0m \u001b[1;32mimport\u001b[0m \u001b[0mpywrap_tensorflow\u001b[0m\u001b[1;33m\u001b[0m\u001b[0m\n\u001b[0m\u001b[0;32m     50\u001b[0m \u001b[1;33m\u001b[0m\u001b[0m\n\u001b[0;32m     51\u001b[0m \u001b[1;31m# Protocol buffers\u001b[0m\u001b[1;33m\u001b[0m\u001b[1;33m\u001b[0m\u001b[0m\n",
      "\u001b[1;32m~\\AppData\\Local\\Continuum\\anaconda3\\lib\\site-packages\\tensorflow\\python\\pywrap_tensorflow.py\u001b[0m in \u001b[0;36m<module>\u001b[1;34m()\u001b[0m\n\u001b[0;32m     28\u001b[0m \u001b[1;31m# Perform pre-load sanity checks in order to produce a more actionable error\u001b[0m\u001b[1;33m\u001b[0m\u001b[1;33m\u001b[0m\u001b[0m\n\u001b[0;32m     29\u001b[0m \u001b[1;31m# than we get from an error during SWIG import.\u001b[0m\u001b[1;33m\u001b[0m\u001b[1;33m\u001b[0m\u001b[0m\n\u001b[1;32m---> 30\u001b[1;33m \u001b[0mself_check\u001b[0m\u001b[1;33m.\u001b[0m\u001b[0mpreload_check\u001b[0m\u001b[1;33m(\u001b[0m\u001b[1;33m)\u001b[0m\u001b[1;33m\u001b[0m\u001b[0m\n\u001b[0m\u001b[0;32m     31\u001b[0m \u001b[1;33m\u001b[0m\u001b[0m\n\u001b[0;32m     32\u001b[0m \u001b[1;31m# pylint: disable=wildcard-import,g-import-not-at-top,unused-import,line-too-long\u001b[0m\u001b[1;33m\u001b[0m\u001b[1;33m\u001b[0m\u001b[0m\n",
      "\u001b[1;32m~\\AppData\\Local\\Continuum\\anaconda3\\lib\\site-packages\\tensorflow\\python\\platform\\self_check.py\u001b[0m in \u001b[0;36mpreload_check\u001b[1;34m()\u001b[0m\n\u001b[0;32m     68\u001b[0m               \u001b[1;34m\"'C:\\\\Windows\\\\System32'. If it is not present, ensure that you \"\u001b[0m\u001b[1;33m\u001b[0m\u001b[0m\n\u001b[0;32m     69\u001b[0m               \u001b[1;34m\"have a CUDA-capable GPU with the correct driver installed.\"\u001b[0m\u001b[1;33m\u001b[0m\u001b[0m\n\u001b[1;32m---> 70\u001b[1;33m               % build_info.nvcuda_dll_name)\n\u001b[0m\u001b[0;32m     71\u001b[0m \u001b[1;33m\u001b[0m\u001b[0m\n\u001b[0;32m     72\u001b[0m       if hasattr(build_info, \"cudart_dll_name\") and hasattr(\n",
      "\u001b[1;31mImportError\u001b[0m: Could not find 'nvcuda.dll'. TensorFlow requires that this DLL be installed in a directory that is named in your %PATH% environment variable. Typically it is installed in 'C:\\Windows\\System32'. If it is not present, ensure that you have a CUDA-capable GPU with the correct driver installed."
     ]
    }
   ],
   "source": [
    "import tensorflow as tf"
   ]
  },
  {
   "cell_type": "code",
   "execution_count": null,
   "metadata": {},
   "outputs": [],
   "source": []
  },
  {
   "cell_type": "code",
   "execution_count": 3,
   "metadata": {},
   "outputs": [
    {
     "data": {
      "text/plain": [
       "environ({'ALLUSERSPROFILE': 'C:\\\\ProgramData', 'APPDATA': 'C:\\\\Users\\\\basind\\\\AppData\\\\Roaming', 'ASL.LOG': 'Destination=file', 'COMMONPROGRAMFILES': 'C:\\\\Program Files\\\\Common Files', 'COMMONPROGRAMFILES(X86)': 'C:\\\\Program Files (x86)\\\\Common Files', 'COMMONPROGRAMW6432': 'C:\\\\Program Files\\\\Common Files', 'COMPUTERNAME': 'USXXBASINDL1C', 'COMSPEC': 'C:\\\\windows\\\\system32\\\\cmd.exe', 'CONDA_ROOT': 'C:\\\\Users\\\\basind\\\\AppData\\\\Local\\\\Continuum\\\\anaconda3', 'CUDA_PATH': 'C:\\\\Program Files\\\\NVIDIA GPU Computing Toolkit\\\\CUDA\\\\v9.1', 'CUDA_PATH_V9_1': 'C:\\\\Program Files\\\\NVIDIA GPU Computing Toolkit\\\\CUDA\\\\v9.1', 'DEFLOGDIR': 'C:\\\\ProgramData\\\\McAfee\\\\DesktopProtection', 'FPS_BROWSER_APP_PROFILE_STRING': 'Internet Explorer', 'FPS_BROWSER_USER_PROFILE_STRING': 'Default', 'HOMEDRIVE': 'C:', 'HOMEPATH': '\\\\Users\\\\basind', 'LOCALAPPDATA': 'C:\\\\Users\\\\basind\\\\AppData\\\\Local', 'LOGONSERVER': '\\\\\\\\CORPMAFR5', 'NUMBER_OF_PROCESSORS': '4', 'NVCUDASAMPLES9_1_ROOT': 'C:\\\\ProgramData\\\\NVIDIA Corporation\\\\CUDA Samples\\\\v9.1', 'NVCUDASAMPLES_ROOT': 'C:\\\\ProgramData\\\\NVIDIA Corporation\\\\CUDA Samples\\\\v9.1', 'NVTOOLSEXT_PATH': 'C:\\\\Program Files\\\\NVIDIA Corporation\\\\NvToolsExt\\\\', 'OS': 'Windows_NT', 'PATH': 'C:\\\\Users\\\\basind\\\\AppData\\\\Local\\\\Continuum\\\\anaconda3;C:\\\\Users\\\\basind\\\\AppData\\\\Local\\\\Continuum\\\\anaconda3\\\\Library\\\\mingw-w64\\\\bin;C:\\\\Users\\\\basind\\\\AppData\\\\Local\\\\Continuum\\\\anaconda3\\\\Library\\\\usr\\\\bin;C:\\\\Users\\\\basind\\\\AppData\\\\Local\\\\Continuum\\\\anaconda3\\\\Library\\\\bin;C:\\\\Users\\\\basind\\\\AppData\\\\Local\\\\Continuum\\\\anaconda3\\\\Scripts;C:\\\\Users\\\\basind\\\\AppData\\\\Local\\\\Continuum\\\\anaconda3\\\\Library\\\\bin;C:\\\\Program Files\\\\NVIDIA GPU Computing Toolkit\\\\CUDA\\\\v9.1\\\\bin;C:\\\\Program Files\\\\NVIDIA GPU Computing Toolkit\\\\CUDA\\\\v9.1\\\\libnvvp;C:\\\\ProgramData\\\\Oracle\\\\Java\\\\javapath;C:\\\\windows\\\\system32;C:\\\\windows;C:\\\\windows\\\\System32\\\\Wbem;C:\\\\windows\\\\System32\\\\WindowsPowerShell\\\\v1.0\\\\;C:\\\\Program Files (x86)\\\\Common Files\\\\EMC\\\\;C:\\\\Program Files\\\\MiKTeX 2.9\\\\miktex\\\\bin\\\\x64\\\\;C:\\\\Program Files\\\\Git\\\\cmd;C:\\\\Program Files (x86)\\\\NVIDIA Corporation\\\\PhysX\\\\Common;C:\\\\cuda\\\\bin;C:\\\\Users\\\\basind\\\\AppData\\\\Local\\\\Programs\\\\Python\\\\Python35\\\\Scripts\\\\;C:\\\\Users\\\\basind\\\\AppData\\\\Local\\\\Programs\\\\Python\\\\Python35\\\\;C:\\\\Users\\\\basind\\\\AppData\\\\Local\\\\atom\\\\bin', 'PATHEXT': '.COM;.EXE;.BAT;.CMD;.VBS;.VBE;.JS;.JSE;.WSF;.WSH;.MSC', 'PROCESSOR_ARCHITECTURE': 'AMD64', 'PROCESSOR_IDENTIFIER': 'Intel64 Family 6 Model 78 Stepping 3, GenuineIntel', 'PROCESSOR_LEVEL': '6', 'PROCESSOR_REVISION': '4e03', 'PROGRAMDATA': 'C:\\\\ProgramData', 'PROGRAMFILES': 'C:\\\\Program Files', 'PROGRAMFILES(X86)': 'C:\\\\Program Files (x86)', 'PROGRAMW6432': 'C:\\\\Program Files', 'PROMPT': '$P$G', 'PSMODULEPATH': 'C:\\\\Program Files\\\\WindowsPowerShell\\\\Modules;C:\\\\windows\\\\system32\\\\WindowsPowerShell\\\\v1.0\\\\Modules', 'PUBLIC': 'C:\\\\Users\\\\Public', 'SESSIONNAME': 'Console', 'SYSTEMDRIVE': 'C:', 'SYSTEMROOT': 'C:\\\\windows', 'TEMP': 'C:\\\\Users\\\\basind\\\\AppData\\\\Local\\\\Temp', 'TMP': 'C:\\\\Users\\\\basind\\\\AppData\\\\Local\\\\Temp', 'UATDATA': 'C:\\\\windows\\\\CCM\\\\UATData\\\\D9F8C395-CAB8-491d-B8AC-179A1FE1BE77', 'USERDNSDOMAIN': 'CORP.EMC.COM', 'USERDOMAIN': 'CORP', 'USERDOMAIN_ROAMINGPROFILE': 'CORP', 'USERNAME': 'basind', 'USERPROFILE': 'C:\\\\Users\\\\basind', 'VBOX_MSI_INSTALL_PATH': 'C:\\\\Program Files\\\\Oracle\\\\VirtualBox\\\\', 'VSEDEFLOGDIR': 'C:\\\\ProgramData\\\\McAfee\\\\DesktopProtection', 'WINDIR': 'C:\\\\windows', 'CONDA_PREFIX': 'C:\\\\Users\\\\basind\\\\AppData\\\\Local\\\\Continuum\\\\anaconda3', 'JPY_INTERRUPT_EVENT': '1440', 'IPY_INTERRUPT_EVENT': '1440', 'JPY_PARENT_PID': '1452', 'TERM': 'xterm-color', 'CLICOLOR': '1', 'PAGER': 'cat', 'GIT_PAGER': 'cat', 'MPLBACKEND': 'module://ipykernel.pylab.backend_inline'})"
      ]
     },
     "execution_count": 3,
     "metadata": {},
     "output_type": "execute_result"
    }
   ],
   "source": [
    "import os\n",
    "os.environ"
   ]
  },
  {
   "cell_type": "code",
   "execution_count": 5,
   "metadata": {
    "scrolled": true
   },
   "outputs": [
    {
     "name": "stdout",
     "output_type": "stream",
     "text": [
      "ERROR: Failed to import the TensorFlow module.\n",
      "\n",
      "WARNING! This script is no longer maintained! \n",
      "=============================================\n",
      "\n",
      "Since TensorFlow 1.4, the self-check has been integrated with TensorFlow itself,\n",
      "and any missing DLLs will be reported when you execute the `import tensorflow`\n",
      "statement. The error messages printed below refer to TensorFlow 1.3 and earlier,\n",
      "and are inaccurate for later versions of TensorFlow.\n",
      "\n",
      "- Python version is 3.6.\n",
      "\n",
      "- TensorFlow is installed at: C:\\Users\\basind\\AppData\\Local\\Continuum\\anaconda3\\lib\\site-packages\\tensorflow\n",
      "\n",
      "- Could not load 'cudart64_80.dll'. The GPU version of TensorFlow\n",
      "  requires that this DLL be installed in a directory that is named in\n",
      "  your %PATH% environment variable. Download and install CUDA 8.0 from\n",
      "  this URL: https://developer.nvidia.com/cuda-toolkit\n",
      "\n",
      "- Could not load 'nvcuda.dll'. The GPU version of TensorFlow requires that\n",
      "  this DLL be installed in a directory that is named in your %PATH%\n",
      "  environment variable. Typically it is installed in 'C:\\Windows\\System32'.\n",
      "  If it is not present, ensure that you have a CUDA-capable GPU with the\n",
      "  correct driver installed.\n",
      "\n",
      "- Could not load 'cudnn64_5.dll'. The GPU version of TensorFlow\n",
      "  requires that this DLL be installed in a directory that is named in\n",
      "  your %PATH% environment variable. Note that installing cuDNN is a\n",
      "  separate step from installing CUDA, and it is often found in a\n",
      "  different directory from the CUDA DLLs. You may install the\n",
      "  necessary DLL by downloading cuDNN 5.1 from this URL:\n",
      "  https://developer.nvidia.com/cudnn\n",
      "\n",
      "- Could not find cuDNN.\n"
     ]
    },
    {
     "ename": "SystemExit",
     "evalue": "-1",
     "output_type": "error",
     "traceback": [
      "An exception has occurred, use %tb to see the full traceback.\n",
      "\u001b[1;31mSystemExit\u001b[0m\u001b[1;31m:\u001b[0m -1\n"
     ]
    },
    {
     "name": "stderr",
     "output_type": "stream",
     "text": [
      "C:\\Users\\basind\\AppData\\Local\\Continuum\\anaconda3\\lib\\site-packages\\IPython\\core\\interactiveshell.py:2918: UserWarning: To exit: use 'exit', 'quit', or Ctrl-D.\n",
      "  warn(\"To exit: use 'exit', 'quit', or Ctrl-D.\", stacklevel=1)\n"
     ]
    }
   ],
   "source": [
    "# Copyright 2015 The TensorFlow Authors. All Rights Reserved.\n",
    "#\n",
    "# Licensed under the Apache License, Version 2.0 (the \"License\");\n",
    "# you may not use this file except in compliance with the License.\n",
    "# You may obtain a copy of the License at\n",
    "#\n",
    "#     http://www.apache.org/licenses/LICENSE-2.0\n",
    "#\n",
    "# Unless required by applicable law or agreed to in writing, software\n",
    "# distributed under the License is distributed on an \"AS IS\" BASIS,\n",
    "# WITHOUT WARRANTIES OR CONDITIONS OF ANY KIND, either express or implied.\n",
    "# See the License for the specific language governing permissions and\n",
    "# limitations under the License.\n",
    "# ==============================================================================\n",
    "\"\"\"A script for testing that TensorFlow is installed correctly on Windows.\n",
    "\n",
    "The script will attempt to verify your TensorFlow installation, and print\n",
    "suggestions for how to fix your installation.\n",
    "\"\"\"\n",
    "\n",
    "import ctypes\n",
    "import imp\n",
    "import sys\n",
    "\n",
    "def main():\n",
    "  try:\n",
    "    import tensorflow as tf\n",
    "    print(\"TensorFlow successfully installed.\")\n",
    "    if tf.test.is_built_with_cuda():\n",
    "      print(\"The installed version of TensorFlow includes GPU support.\")\n",
    "    else:\n",
    "      print(\"The installed version of TensorFlow does not include GPU support.\")\n",
    "    sys.exit(0)\n",
    "  except ImportError:\n",
    "    print(\"ERROR: Failed to import the TensorFlow module.\")\n",
    "\n",
    "  print(\"\"\"\n",
    "WARNING! This script is no longer maintained! \n",
    "=============================================\n",
    "\n",
    "Since TensorFlow 1.4, the self-check has been integrated with TensorFlow itself,\n",
    "and any missing DLLs will be reported when you execute the `import tensorflow`\n",
    "statement. The error messages printed below refer to TensorFlow 1.3 and earlier,\n",
    "and are inaccurate for later versions of TensorFlow.\"\"\")\n",
    "    \n",
    "  candidate_explanation = False\n",
    "\n",
    "  python_version = sys.version_info.major, sys.version_info.minor\n",
    "  print(\"\\n- Python version is %d.%d.\" % python_version)\n",
    "  if not (python_version == (3, 5) or python_version == (3, 6)):\n",
    "    candidate_explanation = True\n",
    "    print(\"- The official distribution of TensorFlow for Windows requires \"\n",
    "          \"Python version 3.5 or 3.6.\")\n",
    "  \n",
    "  try:\n",
    "    _, pathname, _ = imp.find_module(\"tensorflow\")\n",
    "    print(\"\\n- TensorFlow is installed at: %s\" % pathname)\n",
    "  except ImportError:\n",
    "    candidate_explanation = False\n",
    "    print(\"\"\"\n",
    "- No module named TensorFlow is installed in this Python environment. You may\n",
    "  install it using the command `pip install tensorflow`.\"\"\")\n",
    "\n",
    "  try:\n",
    "    msvcp140 = ctypes.WinDLL(\"msvcp140.dll\")\n",
    "  except OSError:\n",
    "    candidate_explanation = True\n",
    "    print(\"\"\"\n",
    "- Could not load 'msvcp140.dll'. TensorFlow requires that this DLL be\n",
    "  installed in a directory that is named in your %PATH% environment\n",
    "  variable. You may install this DLL by downloading Microsoft Visual\n",
    "  C++ 2015 Redistributable Update 3 from this URL:\n",
    "  https://www.microsoft.com/en-us/download/details.aspx?id=53587\"\"\")\n",
    "\n",
    "  try:\n",
    "    cudart64_80 = ctypes.WinDLL(\"cudart64_80.dll\")\n",
    "  except OSError:\n",
    "    candidate_explanation = True\n",
    "    print(\"\"\"\n",
    "- Could not load 'cudart64_80.dll'. The GPU version of TensorFlow\n",
    "  requires that this DLL be installed in a directory that is named in\n",
    "  your %PATH% environment variable. Download and install CUDA 8.0 from\n",
    "  this URL: https://developer.nvidia.com/cuda-toolkit\"\"\")\n",
    "\n",
    "  try:\n",
    "    nvcuda = ctypes.WinDLL(\"nvcuda.dll\")\n",
    "  except OSError:\n",
    "    candidate_explanation = True\n",
    "    print(\"\"\"\n",
    "- Could not load 'nvcuda.dll'. The GPU version of TensorFlow requires that\n",
    "  this DLL be installed in a directory that is named in your %PATH%\n",
    "  environment variable. Typically it is installed in 'C:\\Windows\\System32'.\n",
    "  If it is not present, ensure that you have a CUDA-capable GPU with the\n",
    "  correct driver installed.\"\"\")\n",
    "\n",
    "  cudnn5_found = False\n",
    "  try:\n",
    "    cudnn5 = ctypes.WinDLL(\"cudnn64_5.dll\")\n",
    "    cudnn5_found = True\n",
    "  except OSError:\n",
    "    candidate_explanation = True\n",
    "    print(\"\"\"\n",
    "- Could not load 'cudnn64_5.dll'. The GPU version of TensorFlow\n",
    "  requires that this DLL be installed in a directory that is named in\n",
    "  your %PATH% environment variable. Note that installing cuDNN is a\n",
    "  separate step from installing CUDA, and it is often found in a\n",
    "  different directory from the CUDA DLLs. You may install the\n",
    "  necessary DLL by downloading cuDNN 5.1 from this URL:\n",
    "  https://developer.nvidia.com/cudnn\"\"\")\n",
    "\n",
    "  cudnn6_found = False\n",
    "  try:\n",
    "    cudnn = ctypes.WinDLL(\"cudnn64_6.dll\")\n",
    "    cudnn6_found = True\n",
    "  except OSError:\n",
    "    candidate_explanation = True\n",
    "\n",
    "  if not cudnn5_found or not cudnn6_found:\n",
    "    print()\n",
    "    if not cudnn5_found and not cudnn6_found:\n",
    "      print(\"- Could not find cuDNN.\")\n",
    "    elif not cudnn5_found:\n",
    "      print(\"- Could not find cuDNN 5.1.\")\n",
    "    else:\n",
    "      print(\"- Could not find cuDNN 6.\")\n",
    "      print(\"\"\"\n",
    "  The GPU version of TensorFlow requires that the correct cuDNN DLL be installed\n",
    "  in a directory that is named in your %PATH% environment variable. Note that\n",
    "  installing cuDNN is a separate step from installing CUDA, and it is often\n",
    "  found in a different directory from the CUDA DLLs. The correct version of\n",
    "  cuDNN depends on your version of TensorFlow:\n",
    "  \n",
    "  * TensorFlow 1.2.1 or earlier requires cuDNN 5.1. ('cudnn64_5.dll')\n",
    "  * TensorFlow 1.3 or later requires cuDNN 6. ('cudnn64_6.dll')\n",
    "    \n",
    "  You may install the necessary DLL by downloading cuDNN from this URL:\n",
    "  https://developer.nvidia.com/cudnn\"\"\")\n",
    "    \n",
    "  if not candidate_explanation:\n",
    "    print(\"\"\"\n",
    "- All required DLLs appear to be present. Please open an issue on the\n",
    "  TensorFlow GitHub page: https://github.com/tensorflow/tensorflow/issues\"\"\")\n",
    "\n",
    "  sys.exit(-1)\n",
    "\n",
    "if __name__ == \"__main__\":\n",
    "  main()\n",
    "\n"
   ]
  },
  {
   "cell_type": "code",
   "execution_count": 11,
   "metadata": {},
   "outputs": [
    {
     "ename": "ImportError",
     "evalue": "Traceback (most recent call last):\n  File \"C:/Users/basind/AppData/Local/Programs/Python/Python35/lib/site-packages\\tensorflow\\python\\pywrap_tensorflow.py\", line 58, in <module>\n    from tensorflow.python.pywrap_tensorflow_internal import *\n  File \"C:/Users/basind/AppData/Local/Programs/Python/Python35/lib/site-packages\\tensorflow\\python\\pywrap_tensorflow_internal.py\", line 18, in <module>\n    _pywrap_tensorflow_internal = swig_import_helper()\n  File \"C:/Users/basind/AppData/Local/Programs/Python/Python35/lib/site-packages\\tensorflow\\python\\pywrap_tensorflow_internal.py\", line 17, in swig_import_helper\n    return importlib.import_module(mname)\n  File \"C:\\Users\\basind\\AppData\\Local\\Continuum\\anaconda3\\lib\\importlib\\__init__.py\", line 126, in import_module\n    return _bootstrap._gcd_import(name[level:], package, level)\nImportError: DLL load failed: The specified module could not be found.\n\n\nFailed to load the native TensorFlow runtime.\n\nSee https://www.tensorflow.org/install/install_sources#common_installation_problems\n\nfor some common reasons and solutions.  Include the entire stack trace\nabove this error message when asking for help.",
     "output_type": "error",
     "traceback": [
      "\u001b[1;31m---------------------------------------------------------------------------\u001b[0m",
      "\u001b[1;31mImportError\u001b[0m                               Traceback (most recent call last)",
      "\u001b[1;32mC:/Users/basind/AppData/Local/Programs/Python/Python35/lib/site-packages\\tensorflow\\python\\pywrap_tensorflow.py\u001b[0m in \u001b[0;36m<module>\u001b[1;34m()\u001b[0m\n\u001b[0;32m     57\u001b[0m \u001b[1;33m\u001b[0m\u001b[0m\n\u001b[1;32m---> 58\u001b[1;33m   \u001b[1;32mfrom\u001b[0m \u001b[0mtensorflow\u001b[0m\u001b[1;33m.\u001b[0m\u001b[0mpython\u001b[0m\u001b[1;33m.\u001b[0m\u001b[0mpywrap_tensorflow_internal\u001b[0m \u001b[1;32mimport\u001b[0m \u001b[1;33m*\u001b[0m\u001b[1;33m\u001b[0m\u001b[0m\n\u001b[0m\u001b[0;32m     59\u001b[0m   \u001b[1;32mfrom\u001b[0m \u001b[0mtensorflow\u001b[0m\u001b[1;33m.\u001b[0m\u001b[0mpython\u001b[0m\u001b[1;33m.\u001b[0m\u001b[0mpywrap_tensorflow_internal\u001b[0m \u001b[1;32mimport\u001b[0m \u001b[0m__version__\u001b[0m\u001b[1;33m\u001b[0m\u001b[0m\n",
      "\u001b[1;32mC:/Users/basind/AppData/Local/Programs/Python/Python35/lib/site-packages\\tensorflow\\python\\pywrap_tensorflow_internal.py\u001b[0m in \u001b[0;36m<module>\u001b[1;34m()\u001b[0m\n\u001b[0;32m     17\u001b[0m         \u001b[1;32mreturn\u001b[0m \u001b[0mimportlib\u001b[0m\u001b[1;33m.\u001b[0m\u001b[0mimport_module\u001b[0m\u001b[1;33m(\u001b[0m\u001b[0mmname\u001b[0m\u001b[1;33m)\u001b[0m\u001b[1;33m\u001b[0m\u001b[0m\n\u001b[1;32m---> 18\u001b[1;33m     \u001b[0m_pywrap_tensorflow_internal\u001b[0m \u001b[1;33m=\u001b[0m \u001b[0mswig_import_helper\u001b[0m\u001b[1;33m(\u001b[0m\u001b[1;33m)\u001b[0m\u001b[1;33m\u001b[0m\u001b[0m\n\u001b[0m\u001b[0;32m     19\u001b[0m     \u001b[1;32mdel\u001b[0m \u001b[0mswig_import_helper\u001b[0m\u001b[1;33m\u001b[0m\u001b[0m\n",
      "\u001b[1;32mC:/Users/basind/AppData/Local/Programs/Python/Python35/lib/site-packages\\tensorflow\\python\\pywrap_tensorflow_internal.py\u001b[0m in \u001b[0;36mswig_import_helper\u001b[1;34m()\u001b[0m\n\u001b[0;32m     16\u001b[0m         \u001b[0mmname\u001b[0m \u001b[1;33m=\u001b[0m \u001b[1;34m'.'\u001b[0m\u001b[1;33m.\u001b[0m\u001b[0mjoin\u001b[0m\u001b[1;33m(\u001b[0m\u001b[1;33m(\u001b[0m\u001b[0mpkg\u001b[0m\u001b[1;33m,\u001b[0m \u001b[1;34m'_pywrap_tensorflow_internal'\u001b[0m\u001b[1;33m)\u001b[0m\u001b[1;33m)\u001b[0m\u001b[1;33m.\u001b[0m\u001b[0mlstrip\u001b[0m\u001b[1;33m(\u001b[0m\u001b[1;34m'.'\u001b[0m\u001b[1;33m)\u001b[0m\u001b[1;33m\u001b[0m\u001b[0m\n\u001b[1;32m---> 17\u001b[1;33m         \u001b[1;32mreturn\u001b[0m \u001b[0mimportlib\u001b[0m\u001b[1;33m.\u001b[0m\u001b[0mimport_module\u001b[0m\u001b[1;33m(\u001b[0m\u001b[0mmname\u001b[0m\u001b[1;33m)\u001b[0m\u001b[1;33m\u001b[0m\u001b[0m\n\u001b[0m\u001b[0;32m     18\u001b[0m     \u001b[0m_pywrap_tensorflow_internal\u001b[0m \u001b[1;33m=\u001b[0m \u001b[0mswig_import_helper\u001b[0m\u001b[1;33m(\u001b[0m\u001b[1;33m)\u001b[0m\u001b[1;33m\u001b[0m\u001b[0m\n",
      "\u001b[1;32m~\\AppData\\Local\\Continuum\\anaconda3\\lib\\importlib\\__init__.py\u001b[0m in \u001b[0;36mimport_module\u001b[1;34m(name, package)\u001b[0m\n\u001b[0;32m    125\u001b[0m             \u001b[0mlevel\u001b[0m \u001b[1;33m+=\u001b[0m \u001b[1;36m1\u001b[0m\u001b[1;33m\u001b[0m\u001b[0m\n\u001b[1;32m--> 126\u001b[1;33m     \u001b[1;32mreturn\u001b[0m \u001b[0m_bootstrap\u001b[0m\u001b[1;33m.\u001b[0m\u001b[0m_gcd_import\u001b[0m\u001b[1;33m(\u001b[0m\u001b[0mname\u001b[0m\u001b[1;33m[\u001b[0m\u001b[0mlevel\u001b[0m\u001b[1;33m:\u001b[0m\u001b[1;33m]\u001b[0m\u001b[1;33m,\u001b[0m \u001b[0mpackage\u001b[0m\u001b[1;33m,\u001b[0m \u001b[0mlevel\u001b[0m\u001b[1;33m)\u001b[0m\u001b[1;33m\u001b[0m\u001b[0m\n\u001b[0m\u001b[0;32m    127\u001b[0m \u001b[1;33m\u001b[0m\u001b[0m\n",
      "\u001b[1;31mImportError\u001b[0m: DLL load failed: The specified module could not be found.",
      "\nDuring handling of the above exception, another exception occurred:\n",
      "\u001b[1;31mImportError\u001b[0m                               Traceback (most recent call last)",
      "\u001b[1;32m<ipython-input-11-64156d691fe5>\u001b[0m in \u001b[0;36m<module>\u001b[1;34m()\u001b[0m\n\u001b[1;32m----> 1\u001b[1;33m \u001b[1;32mimport\u001b[0m \u001b[0mtensorflow\u001b[0m \u001b[1;32mas\u001b[0m \u001b[0mtf\u001b[0m\u001b[1;33m\u001b[0m\u001b[0m\n\u001b[0m",
      "\u001b[1;32mC:/Users/basind/AppData/Local/Programs/Python/Python35/lib/site-packages\\tensorflow\\__init__.py\u001b[0m in \u001b[0;36m<module>\u001b[1;34m()\u001b[0m\n\u001b[0;32m     22\u001b[0m \u001b[1;33m\u001b[0m\u001b[0m\n\u001b[0;32m     23\u001b[0m \u001b[1;31m# pylint: disable=g-bad-import-order\u001b[0m\u001b[1;33m\u001b[0m\u001b[1;33m\u001b[0m\u001b[0m\n\u001b[1;32m---> 24\u001b[1;33m \u001b[1;32mfrom\u001b[0m \u001b[0mtensorflow\u001b[0m\u001b[1;33m.\u001b[0m\u001b[0mpython\u001b[0m \u001b[1;32mimport\u001b[0m \u001b[0mpywrap_tensorflow\u001b[0m  \u001b[1;31m# pylint: disable=unused-import\u001b[0m\u001b[1;33m\u001b[0m\u001b[0m\n\u001b[0m\u001b[0;32m     25\u001b[0m \u001b[1;31m# pylint: disable=wildcard-import\u001b[0m\u001b[1;33m\u001b[0m\u001b[1;33m\u001b[0m\u001b[0m\n\u001b[0;32m     26\u001b[0m \u001b[1;32mfrom\u001b[0m \u001b[0mtensorflow\u001b[0m\u001b[1;33m.\u001b[0m\u001b[0mtools\u001b[0m\u001b[1;33m.\u001b[0m\u001b[0mapi\u001b[0m\u001b[1;33m.\u001b[0m\u001b[0mgenerator\u001b[0m\u001b[1;33m.\u001b[0m\u001b[0mapi\u001b[0m \u001b[1;32mimport\u001b[0m \u001b[1;33m*\u001b[0m  \u001b[1;31m# pylint: disable=redefined-builtin\u001b[0m\u001b[1;33m\u001b[0m\u001b[0m\n",
      "\u001b[1;32mC:/Users/basind/AppData/Local/Programs/Python/Python35/lib/site-packages\\tensorflow\\python\\__init__.py\u001b[0m in \u001b[0;36m<module>\u001b[1;34m()\u001b[0m\n\u001b[0;32m     47\u001b[0m \u001b[1;32mimport\u001b[0m \u001b[0mnumpy\u001b[0m \u001b[1;32mas\u001b[0m \u001b[0mnp\u001b[0m\u001b[1;33m\u001b[0m\u001b[0m\n\u001b[0;32m     48\u001b[0m \u001b[1;33m\u001b[0m\u001b[0m\n\u001b[1;32m---> 49\u001b[1;33m \u001b[1;32mfrom\u001b[0m \u001b[0mtensorflow\u001b[0m\u001b[1;33m.\u001b[0m\u001b[0mpython\u001b[0m \u001b[1;32mimport\u001b[0m \u001b[0mpywrap_tensorflow\u001b[0m\u001b[1;33m\u001b[0m\u001b[0m\n\u001b[0m\u001b[0;32m     50\u001b[0m \u001b[1;33m\u001b[0m\u001b[0m\n\u001b[0;32m     51\u001b[0m \u001b[1;31m# Protocol buffers\u001b[0m\u001b[1;33m\u001b[0m\u001b[1;33m\u001b[0m\u001b[0m\n",
      "\u001b[1;32mC:/Users/basind/AppData/Local/Programs/Python/Python35/lib/site-packages\\tensorflow\\python\\pywrap_tensorflow.py\u001b[0m in \u001b[0;36m<module>\u001b[1;34m()\u001b[0m\n\u001b[0;32m     72\u001b[0m \u001b[1;32mfor\u001b[0m \u001b[0msome\u001b[0m \u001b[0mcommon\u001b[0m \u001b[0mreasons\u001b[0m \u001b[1;32mand\u001b[0m \u001b[0msolutions\u001b[0m\u001b[1;33m.\u001b[0m  \u001b[0mInclude\u001b[0m \u001b[0mthe\u001b[0m \u001b[0mentire\u001b[0m \u001b[0mstack\u001b[0m \u001b[0mtrace\u001b[0m\u001b[1;33m\u001b[0m\u001b[0m\n\u001b[0;32m     73\u001b[0m above this error message when asking for help.\"\"\" % traceback.format_exc()\n\u001b[1;32m---> 74\u001b[1;33m   \u001b[1;32mraise\u001b[0m \u001b[0mImportError\u001b[0m\u001b[1;33m(\u001b[0m\u001b[0mmsg\u001b[0m\u001b[1;33m)\u001b[0m\u001b[1;33m\u001b[0m\u001b[0m\n\u001b[0m\u001b[0;32m     75\u001b[0m \u001b[1;33m\u001b[0m\u001b[0m\n\u001b[0;32m     76\u001b[0m \u001b[1;31m# pylint: enable=wildcard-import,g-import-not-at-top,unused-import,line-too-long\u001b[0m\u001b[1;33m\u001b[0m\u001b[1;33m\u001b[0m\u001b[0m\n",
      "\u001b[1;31mImportError\u001b[0m: Traceback (most recent call last):\n  File \"C:/Users/basind/AppData/Local/Programs/Python/Python35/lib/site-packages\\tensorflow\\python\\pywrap_tensorflow.py\", line 58, in <module>\n    from tensorflow.python.pywrap_tensorflow_internal import *\n  File \"C:/Users/basind/AppData/Local/Programs/Python/Python35/lib/site-packages\\tensorflow\\python\\pywrap_tensorflow_internal.py\", line 18, in <module>\n    _pywrap_tensorflow_internal = swig_import_helper()\n  File \"C:/Users/basind/AppData/Local/Programs/Python/Python35/lib/site-packages\\tensorflow\\python\\pywrap_tensorflow_internal.py\", line 17, in swig_import_helper\n    return importlib.import_module(mname)\n  File \"C:\\Users\\basind\\AppData\\Local\\Continuum\\anaconda3\\lib\\importlib\\__init__.py\", line 126, in import_module\n    return _bootstrap._gcd_import(name[level:], package, level)\nImportError: DLL load failed: The specified module could not be found.\n\n\nFailed to load the native TensorFlow runtime.\n\nSee https://www.tensorflow.org/install/install_sources#common_installation_problems\n\nfor some common reasons and solutions.  Include the entire stack trace\nabove this error message when asking for help."
     ]
    }
   ],
   "source": [
    "import tensorflow as tf"
   ]
  },
  {
   "cell_type": "code",
   "execution_count": 2,
   "metadata": {
    "scrolled": true
   },
   "outputs": [
    {
     "name": "stdout",
     "output_type": "stream",
     "text": [
      "Requirement already up-to-date: tensorflow in c:\\users\\basind\\appdata\\local\\programs\\python\\python35\\lib\\site-packages\n",
      "Requirement already up-to-date: numpy>=1.13.3 in c:\\users\\basind\\appdata\\local\\programs\\python\\python35\\lib\\site-packages (from tensorflow)\n",
      "Requirement already up-to-date: wheel>=0.26 in c:\\users\\basind\\appdata\\local\\programs\\python\\python35\\lib\\site-packages (from tensorflow)\n",
      "Requirement already up-to-date: absl-py>=0.1.6 in c:\\users\\basind\\appdata\\local\\programs\\python\\python35\\lib\\site-packages (from tensorflow)\n",
      "Requirement already up-to-date: termcolor>=1.1.0 in c:\\users\\basind\\appdata\\local\\programs\\python\\python35\\lib\\site-packages (from tensorflow)\n",
      "Requirement already up-to-date: gast>=0.2.0 in c:\\users\\basind\\appdata\\local\\programs\\python\\python35\\lib\\site-packages (from tensorflow)\n",
      "Requirement already up-to-date: tensorboard<1.9.0,>=1.8.0 in c:\\users\\basind\\appdata\\local\\programs\\python\\python35\\lib\\site-packages (from tensorflow)\n",
      "Requirement already up-to-date: grpcio>=1.8.6 in c:\\users\\basind\\appdata\\local\\programs\\python\\python35\\lib\\site-packages (from tensorflow)\n",
      "Requirement already up-to-date: six>=1.10.0 in c:\\users\\basind\\appdata\\local\\programs\\python\\python35\\lib\\site-packages (from tensorflow)\n",
      "Requirement already up-to-date: astor>=0.6.0 in c:\\users\\basind\\appdata\\local\\programs\\python\\python35\\lib\\site-packages (from tensorflow)\n",
      "Requirement already up-to-date: protobuf>=3.4.0 in c:\\users\\basind\\appdata\\local\\programs\\python\\python35\\lib\\site-packages (from tensorflow)\n",
      "Requirement already up-to-date: markdown>=2.6.8 in c:\\users\\basind\\appdata\\local\\programs\\python\\python35\\lib\\site-packages (from tensorboard<1.9.0,>=1.8.0->tensorflow)\n",
      "Requirement already up-to-date: werkzeug>=0.11.10 in c:\\users\\basind\\appdata\\local\\programs\\python\\python35\\lib\\site-packages (from tensorboard<1.9.0,>=1.8.0->tensorflow)\n",
      "Requirement already up-to-date: bleach==1.5.0 in c:\\users\\basind\\appdata\\local\\programs\\python\\python35\\lib\\site-packages (from tensorboard<1.9.0,>=1.8.0->tensorflow)\n",
      "Requirement already up-to-date: html5lib==0.9999999 in c:\\users\\basind\\appdata\\local\\programs\\python\\python35\\lib\\site-packages (from tensorboard<1.9.0,>=1.8.0->tensorflow)\n",
      "Requirement already up-to-date: setuptools in c:\\users\\basind\\appdata\\local\\programs\\python\\python35\\lib\\site-packages (from protobuf>=3.4.0->tensorflow)\n"
     ]
    },
    {
     "name": "stderr",
     "output_type": "stream",
     "text": [
      "You are using pip version 8.1.1, however version 10.0.1 is available.\n",
      "You should consider upgrading via the 'python -m pip install --upgrade pip' command.\n"
     ]
    }
   ],
   "source": [
    "!pip3 install --upgrade tensorflow"
   ]
  },
  {
   "cell_type": "code",
   "execution_count": 5,
   "metadata": {},
   "outputs": [
    {
     "ename": "ImportError",
     "evalue": "No module named 'tensorflow'",
     "output_type": "error",
     "traceback": [
      "\u001b[1;31m---------------------------------------------------------------------------\u001b[0m",
      "\u001b[1;31mImportError\u001b[0m                               Traceback (most recent call last)",
      "\u001b[1;32m<ipython-input-5-25b92e4d5dec>\u001b[0m in \u001b[0;36m<module>\u001b[1;34m()\u001b[0m\n\u001b[1;32m----> 1\u001b[1;33m \u001b[1;32mimport\u001b[0m \u001b[0mtensorflow\u001b[0m \u001b[1;32mas\u001b[0m \u001b[0mtf\u001b[0m\u001b[1;33m\u001b[0m\u001b[0m\n\u001b[0m\u001b[0;32m      2\u001b[0m \u001b[0mhello\u001b[0m \u001b[1;33m=\u001b[0m \u001b[0mtf\u001b[0m\u001b[1;33m.\u001b[0m\u001b[0mconstant\u001b[0m\u001b[1;33m(\u001b[0m\u001b[1;34m'Hello, TensorFlow!'\u001b[0m\u001b[1;33m)\u001b[0m\u001b[1;33m\u001b[0m\u001b[0m\n\u001b[0;32m      3\u001b[0m \u001b[0msess\u001b[0m \u001b[1;33m=\u001b[0m \u001b[0mtf\u001b[0m\u001b[1;33m.\u001b[0m\u001b[0mSession\u001b[0m\u001b[1;33m(\u001b[0m\u001b[1;33m)\u001b[0m\u001b[1;33m\u001b[0m\u001b[0m\n\u001b[0;32m      4\u001b[0m \u001b[0mprint\u001b[0m\u001b[1;33m(\u001b[0m\u001b[0msess\u001b[0m\u001b[1;33m.\u001b[0m\u001b[0mrun\u001b[0m\u001b[1;33m(\u001b[0m\u001b[0mhello\u001b[0m\u001b[1;33m)\u001b[0m\u001b[1;33m)\u001b[0m\u001b[1;33m\u001b[0m\u001b[0m\n",
      "\u001b[1;31mImportError\u001b[0m: No module named 'tensorflow'"
     ]
    }
   ],
   "source": [
    "import tensorflow as tf\n",
    "hello = tf.constant('Hello, TensorFlow!')\n",
    "sess = tf.Session()\n",
    "print(sess.run(hello))"
   ]
  }
 ],
 "metadata": {
  "kernelspec": {
   "display_name": "Python 3",
   "language": "python",
   "name": "python3"
  },
  "language_info": {
   "codemirror_mode": {
    "name": "ipython",
    "version": 3
   },
   "file_extension": ".py",
   "mimetype": "text/x-python",
   "name": "python",
   "nbconvert_exporter": "python",
   "pygments_lexer": "ipython3",
   "version": "3.6.4"
  }
 },
 "nbformat": 4,
 "nbformat_minor": 2
}
