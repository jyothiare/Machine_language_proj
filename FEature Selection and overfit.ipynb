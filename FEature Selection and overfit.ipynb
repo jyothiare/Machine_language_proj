{
 "cells": [
  {
   "cell_type": "code",
   "execution_count": null,
   "metadata": {},
   "outputs": [],
   "source": [
    "#Number of Features and overfitting\n",
    "import sys\n",
    "sys.path.append(\"C:/JBasineni/Mach_learn/ud120-projects-master/ud120-projects-master/tools/\")\n",
    "sys.path.append('C:/JBasineni/Mach_learn/ud120-projects-master/ud120-projects-master/choose_your_own')\n",
    "sys.path.append('C:/JBasineni/Mach_learn/ud120-projects-master/ud120-projects-master/datasets_questions')\n",
    "#sys.path.append('C:/Users/basind/AppData/Local/Programs/Python/Python35/lib/site-packages')\n",
    "import os\n",
    "os.chdir('C:/JBasineni/Mach_learn/ud120-projects-master/ud120-projects-master/feature_selection')"
   ]
  },
  {
   "cell_type": "code",
   "execution_count": 10,
   "metadata": {},
   "outputs": [
    {
     "name": "stdout",
     "output_type": "stream",
     "text": [
      "Number of training points = 150\n"
     ]
    }
   ],
   "source": [
    "import pickle\n",
    "import numpy\n",
    "import os\n",
    "numpy.random.seed(42)\n",
    "\n",
    "os.chdir('C:/JBasineni/Mach_learn/ud120-projects-master/ud120-projects-master')\n",
    "\n",
    "words_file = \"C:/JBasineni/Mach_learn/ud120-projects-master/ud120-projects-master/text_learning/your_word_data.pkl\" \n",
    "authors_file = \"C:/JBasineni/Mach_learn/ud120-projects-master/ud120-projects-master/text_learning/your_email_authors.pkl\"\n",
    "    \n",
    "def my_func(words_file, authors_file):\n",
    "    '''\n",
    "    I will use this code later in the lesson so I made it a function\n",
    "    '''\n",
    "    \n",
    "    ### The words (features) and authors (labels), already largely processed.\n",
    "    ### These files should have been created from the previous (Lesson 10)\n",
    "    ### mini-project.\n",
    "    word_data = pickle.load( open(words_file, \"rb\"))\n",
    "    authors = pickle.load( open(authors_file, \"rb\") )\n",
    "\n",
    "\n",
    "\n",
    "    ### test_size is the percentage of events assigned to the test set (the\n",
    "    ### remainder go into training)\n",
    "    ### feature matrices changed to dense representations for compatibility with\n",
    "    ### classifier functions in versions 0.15.2 and earlier\n",
    "    from sklearn import cross_validation\n",
    "    features_train, features_test, labels_train, labels_test = cross_validation.train_test_split(word_data, authors, test_size=0.1, random_state=42)\n",
    "\n",
    "    from sklearn.feature_extraction.text import TfidfVectorizer\n",
    "    vectorizer = TfidfVectorizer(sublinear_tf=True, max_df=0.5,\n",
    "                                 stop_words='english')\n",
    "    features_train = vectorizer.fit_transform(features_train)\n",
    "    features_test  = vectorizer.transform(features_test).toarray()\n",
    "\n",
    "\n",
    "    ### a classic way to overfit is to use a small number\n",
    "    ### of data points and a large number of features;\n",
    "    ### train on only 150 events to put ourselves in this regime\n",
    "    features_train = features_train[:150].toarray()\n",
    "    labels_train   = labels_train[:150]\n",
    "\n",
    "\n",
    "    from sklearn.tree import DecisionTreeClassifier\n",
    "\n",
    "    clf = DecisionTreeClassifier()\n",
    "    clf.fit(features_train, labels_train)\n",
    "    \n",
    "    return clf, vectorizer, features_train, features_test, labels_train, labels_test\n",
    "\n",
    "\n",
    "(clf, vectorizer, features_train, features_test, labels_train, labels_test) = my_func(words_file, authors_file)\n",
    "\n",
    "print ('Number of training points = {0}'.format(len(features_train)))"
   ]
  },
  {
   "cell_type": "code",
   "execution_count": 11,
   "metadata": {},
   "outputs": [
    {
     "name": "stdout",
     "output_type": "stream",
     "text": [
      "Accuracy on test set = 0.9661547212741752\n"
     ]
    }
   ],
   "source": [
    "# Accuracy of over fit\n",
    "print ('Accuracy on test set = {0}'.format(clf.score(features_test, labels_test)))"
   ]
  },
  {
   "cell_type": "code",
   "execution_count": 12,
   "metadata": {},
   "outputs": [
    {
     "name": "stdout",
     "output_type": "stream",
     "text": [
      "[(34520, 0.8075998075998077, 'sshacklensf')]\n"
     ]
    }
   ],
   "source": [
    "top_features = [(number, feature, vectorizer.get_feature_names()[number]) \n",
    "                for number, feature in zip(range(len(clf.feature_importances_)), \n",
    "                                           clf.feature_importances_) if feature > 0.2]\n",
    "print (top_features)\n"
   ]
  },
  {
   "cell_type": "code",
   "execution_count": 16,
   "metadata": {},
   "outputs": [],
   "source": [
    "#REprocess the text\n",
    "\n",
    "import string\n",
    "from nltk.stem.snowball import SnowballStemmer\n",
    "\n",
    "def parseOutText(f):\n",
    "    '''\n",
    "    Input: a file containing text\n",
    "    \n",
    "    Output: the stemmed words in the input text, all separated by a single space\n",
    "    '''\n",
    "    f.seek(0)  ### go back to beginning of file (annoying)\n",
    "    all_text = f.read()\n",
    "\n",
    "    ### split off metadata\n",
    "    content = all_text.split(\"X-FileName:\")\n",
    "    \n",
    "    # the stemmer\n",
    "    stemmer = SnowballStemmer('english')\n",
    "    \n",
    "    # the string of words\n",
    "    words = \"\"\n",
    "    \n",
    "    if len(content) > 1:\n",
    "        ### remove punctuation\n",
    "        text_string = content[1].translate(str.maketrans(\"\", \"\", string.punctuation))\n",
    "\n",
    "\n",
    "\n",
    "        ### split the text string into individual words, stem each word,\n",
    "        ### and append the stemmed word to words (make sure there's a single\n",
    "        ### space between each stemmed word)\n",
    "        for word in text_string.split():\n",
    "            # stem the word and add it to words\n",
    "            words += stemmer.stem(word) + ' '       \n",
    "        \n",
    "    return words[:-1]\n",
    "    \n",
    "\n",
    "ff = open(\"C:/JBasineni/Mach_learn/ud120-projects-master/ud120-projects-master/text_learning/test_email.txt\", \"r\")\n",
    "text = parseOutText(ff)\n"
   ]
  },
  {
   "cell_type": "code",
   "execution_count": 22,
   "metadata": {},
   "outputs": [],
   "source": [
    "from sklearn.feature_extraction.text import TfidfVectorizer\n",
    "\n",
    "\"\"\"\n",
    "    Starter code to process the emails from Sara and Chris to extract\n",
    "    the features and get the documents ready for classification.\n",
    "\n",
    "    The list of all the emails from Sara are in the from_sara list\n",
    "    likewise for emails from Chris (from_chris)\n",
    "\n",
    "    The actual documents are in the Enron email dataset, which\n",
    "    you downloaded/unpacked in Part 0 of the first mini-project. If you have\n",
    "    not obtained the Enron email corpus, run startup.py in the tools folder.\n",
    "\n",
    "    The data is stored in lists and packed away in pickle files at the end.\n",
    "\"\"\"\n",
    "\n",
    "def sara_and_chris(sw):\n",
    "    '''\n",
    "    I'm going to reuse this code later so I'm making it a function\n",
    "    '''\n",
    "    \n",
    "    with open(\"C:/JBasineni/Mach_learn/ud120-projects-master/ud120-projects-master/text_learning/from_sara.txt\", \"r\") as from_sara, open(\"C:/JBasineni/Mach_learn/ud120-projects-master/ud120-projects-master/text_learning/from_chris.txt\", \"r\") as from_chris:\n",
    "\n",
    "        from_data = []\n",
    "        word_data = []\n",
    "\n",
    "        ### temp_counter is a way to speed up the development--there are\n",
    "        ### thousands of emails from Sara and Chris, so running over all of them\n",
    "        ### can take a long time\n",
    "        ### temp_counter helps you only look at the first 200 emails in the list so you\n",
    "        ### can iterate your modifications quicker\n",
    "        temp_counter = 0\n",
    "\n",
    "\n",
    "        for name, from_person in [(\"sara\", from_sara), (\"chris\", from_chris)]:\n",
    "            for path in from_person:\n",
    "                #if temp_counter < 200:\n",
    "            #path1=path[:-1]\n",
    "                path = os.path.join('C:/JBasineni/Mach_learn/ud120-projects-master/', path[:-1])\n",
    "               # path = os.path.join('C:/JBasineni/Mach_learn/ud120-projects-master/maildir/bailey-s/deleted_items', path[:-1])\n",
    "                \n",
    "                #\n",
    "                #print(path)\n",
    "                #print(path1)\n",
    "                \n",
    "                \n",
    "\n",
    "                with open(path, 'r') as email:\n",
    "                    ### use parseOutText to extract the text from the opened email\n",
    "                    text = parseOutText(email)\n",
    "                    for word in sw:\n",
    "                        if(word in text):\n",
    "                            text = text.replace(word, \"\")\n",
    "                        ### append the text to word_data\n",
    "                            word_data.append(text.replace('\\n',' ').strip())\n",
    "                            ### append a 0 to from_data if email is from Sara, and 1 if email is from Chris\n",
    "                        if name=='sara':\n",
    "                            from_data.append(0)\n",
    "                        else:\n",
    "                            from_data.append(1)\n",
    "\n",
    "    pickle.dump( word_data, open(\"your_word_data.pkl\", \"wb\") )\n",
    "    pickle.dump( from_data, open(\"your_email_authors.pkl\", \"wb\") )\n",
    "    \n",
    "    return None\n",
    "\n",
    "\n",
    "sw = [\"sara\", \"shackleton\", \"chris\", \"germani\", \"sshacklensf\"]\n",
    "sara_and_chris(sw)\n"
   ]
  },
  {
   "cell_type": "code",
   "execution_count": 18,
   "metadata": {},
   "outputs": [
    {
     "name": "stdout",
     "output_type": "stream",
     "text": [
      "[(34520, 0.8075998075998077, 'sshacklensf')]\n"
     ]
    }
   ],
   "source": [
    "#words_file = 'your_word_data.pkl'\n",
    "#authors_file = 'your_email_authors.pkl'\n",
    "words_file = \"C:/JBasineni/Mach_learn/ud120-projects-master/ud120-projects-master/text_learning/your_word_data.pkl\" \n",
    "authors_file = \"C:/JBasineni/Mach_learn/ud120-projects-master/ud120-projects-master/text_learning/your_email_authors.pkl\"\n",
    "    \n",
    "\n",
    "(clf, vectorizer, features_train, features_test, labels_train, labels_test) = my_func(words_file, authors_file)\n",
    "\n",
    "top_features = [(number, feature, vectorizer.get_feature_names()[number]) for number, feature in \n",
    "                zip(range(len(clf.feature_importances_)), clf.feature_importances_) if feature > 0.2]\n",
    "print (top_features)\n"
   ]
  },
  {
   "cell_type": "code",
   "execution_count": 25,
   "metadata": {},
   "outputs": [
    {
     "name": "stdout",
     "output_type": "stream",
     "text": [
      "Accuracy on test set = 0.9658703071672355\n"
     ]
    }
   ],
   "source": [
    "#Accuracy of the overfit Tree\n",
    "import numpy as np\n",
    "from sklearn.linear_model import LinearRegression\n",
    "# remove the 2 outlier words\n",
    "sw = [\"sara\", \"shackleton\", \"chris\", \"germani\", \"sshacklensf\", \"cgermannsf\"]\n",
    "sara_and_chris(sw)\n",
    "\n",
    "# re-fit the tree\n",
    "words_file = \"C:/JBasineni/Mach_learn/ud120-projects-master/ud120-projects-master/text_learning/your_word_data.pkl\" \n",
    "authors_file = \"C:/JBasineni/Mach_learn/ud120-projects-master/ud120-projects-master/text_learning/your_email_authors.pkl\"\n",
    " \n",
    "\n",
    "(clf, vectorizer, features_train, features_test, labels_train, labels_test) = my_func(words_file, authors_file)\n",
    "\n",
    "print ('Accuracy on test set = {0}'.format(clf.score(features_test, labels_test)))"
   ]
  }
 ],
 "metadata": {
  "kernelspec": {
   "display_name": "Python 3",
   "language": "python",
   "name": "python3"
  },
  "language_info": {
   "codemirror_mode": {
    "name": "ipython",
    "version": 3
   },
   "file_extension": ".py",
   "mimetype": "text/x-python",
   "name": "python",
   "nbconvert_exporter": "python",
   "pygments_lexer": "ipython3",
   "version": "3.6.4"
  }
 },
 "nbformat": 4,
 "nbformat_minor": 2
}
