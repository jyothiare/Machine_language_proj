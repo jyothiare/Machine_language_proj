{
 "cells": [
  {
   "cell_type": "markdown",
   "metadata": {},
   "source": [
    "## Baseball statistics\n",
    "I am opting to analyze the baseball dataset.\n",
    "The questions I would like to answer from this is to find\n",
    "\n",
    "1.Which team has the highest salaries?\n",
    "\n",
    "2.Is there any corelation between team salaries and the team wins?\n",
    "\n",
    "3.What is the association between team salary and baseball statistics like batting and pitching?\n",
    "\n",
    "Do teams that have higher salaries have better batting and pitching averages?\n",
    "\n",
    "Each  baseball CSV is a consolidated file since 1871. I just choose 2014 randomly as that is the first zip file I have downloaded.\n",
    "## Load Data from CSVs"
   ]
  },
  {
   "cell_type": "code",
   "execution_count": 395,
   "metadata": {
    "collapsed": true,
    "scrolled": true
   },
   "outputs": [],
   "source": [
    "import pandas as pd\n",
    "#Import the Salaries and the Teams files first\n",
    "salaries_df = pd.read_csv('Salaries.csv')\n",
    "team_df = pd.read_csv('Teams.csv')\n",
    "salaries_2014_df = salaries_df[salaries_df.yearID == 2014].copy()"
   ]
  },
  {
   "cell_type": "code",
   "execution_count": 396,
   "metadata": {
    "scrolled": true
   },
   "outputs": [
    {
     "name": "stdout",
     "output_type": "stream",
     "text": [
      "         teamID                           name\n",
      "franchID                                      \n",
      "ARI         ARI           Arizona Diamondbacks\n",
      "ATL         ATL                 Atlanta Braves\n",
      "BAL         BAL              Baltimore Orioles\n",
      "BOS         BOS                 Boston Red Sox\n",
      "CHW         CHA                   Chicago Cubs\n",
      "CHC         CHN              Chicago White Sox\n",
      "CIN         CIN                Cincinnati Reds\n",
      "CLE         CLE              Cleveland Indians\n",
      "COL         COL               Colorado Rockies\n",
      "DET         DET                 Detroit Tigers\n",
      "HOU         HOU                 Houston Astros\n",
      "KCR         KCA             Kansas City Royals\n",
      "ANA         LAA  Los Angeles Angels of Anaheim\n",
      "LAD         LAN            Los Angeles Dodgers\n",
      "FLA         MIA                  Miami Marlins\n",
      "MIL         MIL              Milwaukee Brewers\n",
      "MIN         MIN                Minnesota Twins\n",
      "NYY         NYA               New York Yankees\n",
      "NYM         NYN                  New York Mets\n",
      "OAK         OAK              Oakland Athletics\n",
      "PHI         PHI          Philadelphia Phillies\n",
      "PIT         PIT             Pittsburgh Pirates\n",
      "SDP         SDN               San Diego Padres\n",
      "SEA         SEA               Seattle Mariners\n",
      "SFG         SFN           San Francisco Giants\n",
      "STL         SLN            St. Louis Cardinals\n",
      "TBD         TBA                 Tampa Bay Rays\n",
      "TEX         TEX                  Texas Rangers\n",
      "TOR         TOR              Toronto Blue Jays\n",
      "WSN         WAS           Washington Nationals\n"
     ]
    }
   ],
   "source": [
    "## Take the team info only for 2014 and pick the teamid and franchID only \n",
    "## Make another DF with franchID as the index\n",
    "\n",
    "teams_2014_df = (team_df[team_df.yearID==2014])\n",
    "teams_df = teams_2014_df[['teamID','franchID','name']].copy()\n",
    "teamsidx_df = teams_df.set_index('franchID')\n",
    "print teamsidx_df"
   ]
  },
  {
   "cell_type": "code",
   "execution_count": 397,
   "metadata": {},
   "outputs": [
    {
     "name": "stdout",
     "output_type": "stream",
     "text": [
      "       yearID teamID lgID   playerID    salary\n",
      "24432    2014    NYM   NL  blackvi01    502250\n",
      "24433    2014    NYM   NL  brownan02    538045\n",
      "24434    2014    NYM   NL  colonba01   9000000\n",
      "24435    2014    NYM   NL  darnatr01    501560\n",
      "24436    2014    NYM   NL   dudalu01   1637500\n",
      "24437    2014    NYM   NL  familje01    502550\n",
      "24438    2014    NYM   NL    geedi01   3625000\n",
      "24439    2014    NYM   NL  germego01    504875\n",
      "24440    2014    NYM   NL  grandcu01  13000000\n",
      "24441    2014    NYM   NL  lagarju01    506636\n",
      "24442    2014    NYM   NL  lannajo01   1500000\n",
      "24443    2014    NYM   NL  matsuda01   1500000\n",
      "24444    2014    NYM   NL  mejiaje01    509675\n",
      "24445    2014    NYM   NL  murphda08   5700000\n",
      "24446    2014    NYM   NL  niesejo01   5000000\n",
      "24447    2014    NYM   NL  parnebo01   3700000\n",
      "24448    2014    NYM   NL  reckean01    505340\n",
      "24449    2014    NYM   NL   ricesc01    542500\n",
      "24450    2014    NYM   NL  satinjo01    506809\n",
      "24451    2014    NYM   NL  tejadru01   1100000\n",
      "24452    2014    NYM   NL  torreca01    561875\n",
      "24453    2014    NYM   NL  valvejo01   1000000\n",
      "24454    2014    NYM   NL  wheelza01    512375\n",
      "24455    2014    NYM   NL  younger03   1850000\n",
      "24598    2014    SFG   NL  abreuto01    745000\n",
      "24599    2014    SFG   NL  adriaeh01    500500\n",
      "24600    2014    SFG   NL  affelje01   6000000\n",
      "24601    2014    SFG   NL  ariasjo01   1150000\n",
      "24602    2014    SFG   NL   beltbr01   2900000\n",
      "24603    2014    SFG   NL  blancgr01   2525000\n",
      "24604    2014    SFG   NL  bumgama01   3750000\n",
      "24605    2014    SFG   NL  colvity01   1000000\n",
      "24606    2014    SFG   NL  crawfbr01    560000\n",
      "24607    2014    SFG   NL  garcija01   4500000\n",
      "24608    2014    SFG   NL  gutieju01    850000\n",
      "24609    2014    SFG   NL  hudsoti01  11000000\n",
      "24610    2014    SFG   NL  linceti01  17000000\n",
      "24611    2014    SFG   NL  lopezja02   4000000\n",
      "24612    2014    SFG   NL  machije01    505000\n",
      "24613    2014    SFG   NL  morsemi01   6000000\n",
      "24614    2014    SFG   NL  paganan01  10250000\n",
      "24615    2014    SFG   NL  peavyja01  14500000\n",
      "24616    2014    SFG   NL  pencehu01  16000000\n",
      "24617    2014    SFG   NL  perezju02    501000\n",
      "24618    2014    SFG   NL  petityu01    845000\n",
      "24619    2014    SFG   NL  poseybu01  12500000\n",
      "24620    2014    SFG   NL   romose01   5500000\n",
      "24621    2014    SFG   NL  sanchhe01    512000\n",
      "24622    2014    SFG   NL  sandopa01   8250000\n",
      "24623    2014    SFG   NL  scutama01   6666667\n",
      "24624    2014    SFG   NL  vogelry01   5000000\n"
     ]
    }
   ],
   "source": [
    "## Data Wrangling to correct the team ID's in salaraies file\n",
    "## Check to see if all the team ID's exist in the teams dataframe.\n",
    "##Notice the NYM and SFG are franchise ID's instead of team ID's \n",
    "Incorrect_team_salaries_df= salaries_2014_df.loc[~ salaries_2014_df['teamID'].isin(teams_df['teamID'].values)]\n",
    "print Incorrect_team_salaries_df"
   ]
  },
  {
   "cell_type": "code",
   "execution_count": 398,
   "metadata": {
    "collapsed": true,
    "scrolled": false
   },
   "outputs": [],
   "source": [
    "## So the salaraies dataframe needs to be cleaned to get accurate values.\n",
    "## Function to return the correct team ID if it exists in the teams dataframe either as a team ID or FranchID\n",
    "def correct_teamID(v_team_id):\n",
    "    if v_team_id in teams_df['teamID'].values:\n",
    "        return v_team_id\n",
    "    elif v_team_id in teams_df['franchID'].values:\n",
    "        return teamsidx_df.loc[v_team_id,'teamID']\n",
    "    else:\n",
    "        return ''\n",
    "\n",
    "\n",
    "\n",
    "#Test the function\n",
    "correct_teamID('NYM')\n",
    "\n",
    "salaries_2014_df['teamID']= salaries_2014_df['teamID'].apply(correct_teamID)\n",
    "#print salaries_2014_df[salaries_2014_df.teamID == 'SFG']"
   ]
  },
  {
   "cell_type": "code",
   "execution_count": 399,
   "metadata": {
    "scrolled": false
   },
   "outputs": [
    {
     "name": "stdout",
     "output_type": "stream",
     "text": [
      "    yearID teamID     salary\n",
      "13    2014    LAN  217014600\n",
      "17    2014    NYA  197543907\n",
      "20    2014    PHI  180944967\n",
      "24    2014    SFN  163510167\n",
      "9     2014    DET  152855500\n",
      "3     2014    BOS  139019929\n",
      "29    2014    WAS  131983680\n",
      "12    2014    LAA  121988250\n",
      "25    2014    SLN  120693000\n",
      "27    2014    TEX  112255059\n",
      "28    2014    TOR  109920100\n",
      "6     2014    CIN  108217500\n",
      "2     2014    BAL  103416000\n",
      "15    2014    MIL  101217000\n",
      "0     2014    ARI   97861500\n",
      "1     2014    ATL   97609000\n",
      "8     2014    COL   95403500\n",
      "23    2014    SEA   92531100\n",
      "18    2014    NYN   85556990\n",
      "16    2014    MIN   83762500\n",
      "7     2014    CLE   82151899\n",
      "4     2014    CHA   81830500\n",
      "21    2014    PIT   77178000\n",
      "22    2014    SDN   75685700\n",
      "11    2014    KCA   74594075\n",
      "26    2014    TBA   72689100\n",
      "19    2014    OAK   72408400\n",
      "5     2014    CHN   65522500\n",
      "14    2014    MIA   41836900\n",
      "10    2014    HOU   35116300\n"
     ]
    }
   ],
   "source": [
    "#Now groupby the salaries by team and sort them in descending order to find the team with the maximum salary.\n",
    "new_salaries_df = ((salaries_2014_df.groupby(['yearID','teamID']).sum()['salary']).reset_index()).copy()\n",
    "print new_salaries_df.sort_values(by = 'salary',ascending=0 )\n",
    "\n",
    "## This answers the question that 'Los Angels Dodgers' have the highest team salary.\n"
   ]
  },
  {
   "cell_type": "code",
   "execution_count": 419,
   "metadata": {},
   "outputs": [
    {
     "name": "stdout",
     "output_type": "stream",
     "text": [
      "Populating the interactive namespace from numpy and matplotlib\n"
     ]
    },
    {
     "data": {
      "text/plain": [
       "<matplotlib.text.Text at 0x151a11d0>"
      ]
     },
     "execution_count": 419,
     "metadata": {},
     "output_type": "execute_result"
    },
    {
     "data": {
      "image/png": "[encoded data removed]",
      "text/plain": [
       "<matplotlib.figure.Figure at 0x16c3e650>"
      ]
     },
     "metadata": {},
     "output_type": "display_data"
    }
   ],
   "source": [
    "%pylab inline\n",
    "import matplotlib.pyplot as plt\n",
    "import numpy as np\n",
    "import pandas as pd\n",
    "import seaborn as sns\n",
    "plt.hist(salaries_2014_df['salary'].values, bins=8)\n",
    "plt.xlabel('Salary')\n",
    "plt.title('Distribution of 2014 salaries across all the teams ')"
   ]
  },
  {
   "cell_type": "code",
   "execution_count": 420,
   "metadata": {},
   "outputs": [
    {
     "data": {
      "image/png": "[encoded data removed]",
      "text/plain": [
       "<matplotlib.figure.Figure at 0x16c2a0f0>"
      ]
     },
     "metadata": {},
     "output_type": "display_data"
    }
   ],
   "source": [
    "#A horizontal bargraph to plot the salaraies of the teams\n",
    "\n",
    "\n",
    "plotidx_df = new_salaries_df[['teamID','salary']].set_index('teamID')\n",
    "ax = plotidx_df.plot( kind='barh',title =\"Team salaraies in 2014\", figsize=(15, 10),legend=True,  fontsize=12)\n",
    "ax.set_xlabel(\"Salary\", fontsize=12)\n",
    "ax.set_ylabel(\"Teams\", fontsize=12)\n",
    "plt.show()\n"
   ]
  },
  {
   "cell_type": "code",
   "execution_count": 401,
   "metadata": {},
   "outputs": [
    {
     "name": "stdout",
     "output_type": "stream",
     "text": [
      "30\n"
     ]
    }
   ],
   "source": [
    "#####################################\n",
    "# 2.Is there any corelation between team salaries and the team wins?                 #\n",
    "#For this the team csv has to be loaded to get the 2014 wins and loses by team \n",
    "# Then merge the two dataframes with the required only columns\n",
    "#Next we calculate the corelation coefficient for the salaries and wins \n",
    "# Next do a scatter plot with the salaries and wins\n",
    "#####################################\n",
    "\n",
    "teamwins2014_df=  teams_2014_df[['yearID','teamID','name','W','L','G']].copy()\n",
    "total_rows=len(new_salaries_df.axes[0])\n",
    "print total_rows\n",
    "salaries_vs_wins_df= new_salaries_df.merge(teamwins2014_df,left_on = ['yearID','teamID'],right_on = ['yearID','teamID'],how = 'left')\n",
    "#print salaries_vs_wins_df"
   ]
  },
  {
   "cell_type": "code",
   "execution_count": 413,
   "metadata": {},
   "outputs": [
    {
     "data": {
      "image/png": "[encoded data removed]",
      "text/plain": [
       "<matplotlib.figure.Figure at 0x174591f0>"
      ]
     },
     "metadata": {},
     "output_type": "display_data"
    }
   ],
   "source": [
    "# Create a bar graph with scalled salaries and wins per team  to show the coordination between salaries vs wins \n",
    "\n",
    "salaries_vs_wins_df['scl_sal']= (salaries_vs_wins_df['salary']/1000000)\n",
    "wins_sal_df  = salaries_vs_wins_df[['teamID','scl_sal','W']].set_index('teamID')\n",
    "bx = wins_sal_df.plot( kind='bar',title =\"Team salaraies vs wins in 2014\", figsize=(15, 10),legend=True,  fontsize=12)\n",
    "bx.set_xlabel(\"Teams\", fontsize=12)\n",
    "bx.set_ylabel(\"Scaled salaries by a million\", fontsize=12)\n",
    "plt.show()\n",
    "\n",
    "#### The below graph shows the wins and salaries of each teams.The salaries are scalled and y axis represent \n",
    "#    the salaries in millions.\n",
    "###"
   ]
  },
  {
   "cell_type": "code",
   "execution_count": 403,
   "metadata": {},
   "outputs": [
    {
     "name": "stdout",
     "output_type": "stream",
     "text": [
      "0.322432582587\n"
     ]
    }
   ],
   "source": [
    "###Checking the corelation coefficient manually\n",
    "\n",
    "def correlation(x,y):\n",
    "    std_x = (x - x.mean())/x.std(ddof=0)\n",
    "    std_y = (y-y.mean())/y.std(ddof=0)\n",
    "    return (std_x*std_y).mean()\n",
    "\n",
    "print correlation(salaries_vs_wins_df['salary'],salaries_vs_wins_df['W'])"
   ]
  },
  {
   "cell_type": "markdown",
   "metadata": {},
   "source": [
    "## For a scatter plot"
   ]
  },
  {
   "cell_type": "code",
   "execution_count": 404,
   "metadata": {},
   "outputs": [
    {
     "name": "stdout",
     "output_type": "stream",
     "text": [
      "Populating the interactive namespace from numpy and matplotlib\n",
      "0.322432582587\n"
     ]
    },
    {
     "data": {
      "text/plain": [
       "<matplotlib.text.Text at 0x15d87f10>"
      ]
     },
     "execution_count": 404,
     "metadata": {},
     "output_type": "execute_result"
    },
    {
     "data": {
      "image/png": "[encoded data removed]",
      "text/plain": [
       "<matplotlib.figure.Figure at 0x151f98d0>"
      ]
     },
     "metadata": {},
     "output_type": "display_data"
    }
   ],
   "source": [
    "%pylab inline\n",
    "import matplotlib.pyplot as plt\n",
    "import numpy as np\n",
    "import pandas as pd\n",
    "import seaborn as sns\n",
    "\n",
    "##To check the corelation coefficient\n",
    "\n",
    "#np.correlation(salaries_vs_wins_df['salary'],salaries_vs_wins_df['W'])\n",
    "print salaries_vs_wins_df['salary'].corr(salaries_vs_wins_df['W'])\n",
    "\n",
    "plt.scatter(salaries_vs_wins_df['salary'],salaries_vs_wins_df['W'])\n",
    "plt.xlabel('2014 Team Salary')\n",
    "plt.ylabel('2014 Team Wins')\n",
    "plt.title('Scatter plot to show the corelation between the team salary and the team wins for the 2014 baseball season')"
   ]
  },
  {
   "cell_type": "markdown",
   "metadata": {},
   "source": [
    "## Corelation between team salaries and batting averages "
   ]
  },
  {
   "cell_type": "code",
   "execution_count": 405,
   "metadata": {
    "collapsed": true
   },
   "outputs": [],
   "source": [
    "#####################################\n",
    "# 3.Is there any corelation between team salaries and the team batting averages?                 #\n",
    "#For this the team csv has to be loaded to get the 2014 Hits and AtBat stats for all teams \n",
    "# Then merge the salaraies and Batting stats dataframes with the required only columns\n",
    "#Next we calculate the corelation coefficient for the salaries and Batting Average(Hits/AtBats) \n",
    "# Next do a scatter plot with the salaries and BA\n",
    "#####################################\n",
    "\n",
    "bat_stats2014_df=  teams_2014_df[['yearID','teamID','name','H','AB']].copy()\n",
    "bat_stats2014_df['BA'] = (bat_stats2014_df['H']/bat_stats2014_df['AB'])\n",
    "salaries_vs_BA_df= new_salaries_df.merge(bat_stats2014_df,left_on = ['yearID','teamID'],right_on = ['yearID','teamID'],how = 'left')\n"
   ]
  },
  {
   "cell_type": "code",
   "execution_count": 406,
   "metadata": {},
   "outputs": [
    {
     "name": "stdout",
     "output_type": "stream",
     "text": [
      "0.254234801897\n"
     ]
    }
   ],
   "source": [
    "#Manually calculate the corelation coefficient\n",
    "print correlation(salaries_vs_BA_df['salary'],salaries_vs_BA_df['BA'])"
   ]
  },
  {
   "cell_type": "code",
   "execution_count": 407,
   "metadata": {},
   "outputs": [
    {
     "name": "stdout",
     "output_type": "stream",
     "text": [
      "0.254234801897\n"
     ]
    },
    {
     "data": {
      "text/plain": [
       "<matplotlib.text.Text at 0x160f2490>"
      ]
     },
     "execution_count": 407,
     "metadata": {},
     "output_type": "execute_result"
    },
    {
     "data": {
      "image/png": "[encoded data removed]",
      "text/plain": [
       "<matplotlib.figure.Figure at 0x169aa2f0>"
      ]
     },
     "metadata": {},
     "output_type": "display_data"
    }
   ],
   "source": [
    "##To check the corelation coefficient\n",
    "print salaries_vs_BA_df['salary'].corr(salaries_vs_BA_df['BA'])\n",
    "\n",
    "plt.scatter(salaries_vs_BA_df['salary'],salaries_vs_BA_df['BA'])\n",
    "plt.xlabel('2014 Team Salary')\n",
    "plt.ylabel('2014 Team Batting Average')\n",
    "plt.title('Scatter plot to show the corelation between the team salary and the teams Batting Average for the 2014 baseball season')\n"
   ]
  },
  {
   "cell_type": "markdown",
   "metadata": {},
   "source": [
    "## Corelation between team salaries and Pitching stats (ERA )"
   ]
  },
  {
   "cell_type": "code",
   "execution_count": 408,
   "metadata": {},
   "outputs": [
    {
     "name": "stdout",
     "output_type": "stream",
     "text": [
      "    yearID teamID     salary                           name   ER   ERA\n",
      "0     2014    ARI   97861500           Arizona Diamondbacks  683  4.26\n",
      "1     2014    ATL   97609000                 Atlanta Braves  547  3.38\n",
      "2     2014    BAL  103416000              Baltimore Orioles  557  3.43\n",
      "3     2014    BOS  139019929                 Boston Red Sox  653  4.01\n",
      "4     2014    CHA   81830500                   Chicago Cubs  687  4.29\n",
      "5     2014    CHN   65522500              Chicago White Sox  636  3.91\n",
      "6     2014    CIN  108217500                Cincinnati Reds  576  3.59\n",
      "7     2014    CLE   82151899              Cleveland Indians  581  3.56\n",
      "8     2014    COL   95403500               Colorado Rockies  770  4.84\n",
      "9     2014    DET  152855500                 Detroit Tigers  648  4.01\n",
      "10    2014    HOU   35116300                 Houston Astros  657  4.11\n",
      "11    2014    KCA   74594075             Kansas City Royals  565  3.51\n",
      "12    2014    LAA  121988250  Los Angeles Angels of Anaheim  590  3.58\n",
      "13    2014    LAN  217014600            Los Angeles Dodgers  554  3.40\n",
      "14    2014    MIA   41836900                  Miami Marlins  613  3.78\n",
      "15    2014    MIL  101217000              Milwaukee Brewers  594  3.67\n",
      "16    2014    MIN   83762500                Minnesota Twins  728  4.57\n",
      "17    2014    NYA  197543907               New York Yankees  605  3.75\n",
      "18    2014    NYN   85556990                  New York Mets  568  3.49\n",
      "19    2014    OAK   72408400              Oakland Athletics  524  3.22\n",
      "20    2014    PHI  180944967          Philadelphia Phillies  619  3.79\n",
      "21    2014    PIT   77178000             Pittsburgh Pirates  562  3.47\n",
      "22    2014    SDN   75685700               San Diego Padres  523  3.27\n",
      "23    2014    SEA   92531100               Seattle Mariners  512  3.17\n",
      "24    2014    SFN  163510167           San Francisco Giants  564  3.50\n",
      "25    2014    SLN  120693000            St. Louis Cardinals  564  3.50\n",
      "26    2014    TBA   72689100                 Tampa Bay Rays  579  3.56\n",
      "27    2014    TEX  112255059                  Texas Rangers  711  4.49\n",
      "28    2014    TOR  109920100              Toronto Blue Jays  642  4.00\n",
      "29    2014    WAS  131983680           Washington Nationals  495  3.03\n"
     ]
    }
   ],
   "source": [
    "#####################################\n",
    "# 3.Is there any corelation between team salaries and the team Pitching stats and in this case we are taking the team ERA?                 #\n",
    "# Then merge the salaraies and Pitching stats dataframes with the required only columns\n",
    "# Next we calculate the corelation coefficient for the salaries and ERA(earned Runs Average)\n",
    "# Next do a scatter plot with the salaries and ERA\n",
    "#####################################\n",
    "\n",
    "pitch_stats2014_df=  teams_2014_df[['yearID','teamID','name','ER','ERA']].copy()\n",
    "salaries_vs_ERA_df= new_salaries_df.merge(pitch_stats2014_df,left_on = ['yearID','teamID'],right_on = ['yearID','teamID'],how = 'left')\n",
    "print salaries_vs_ERA_df"
   ]
  },
  {
   "cell_type": "code",
   "execution_count": 409,
   "metadata": {},
   "outputs": [
    {
     "name": "stdout",
     "output_type": "stream",
     "text": [
      "-0.100231270169\n"
     ]
    }
   ],
   "source": [
    "#Manually calculate the corelation coefficient\n",
    "print correlation(salaries_vs_ERA_df['salary'],salaries_vs_ERA_df['ERA'])"
   ]
  },
  {
   "cell_type": "code",
   "execution_count": 410,
   "metadata": {},
   "outputs": [
    {
     "name": "stdout",
     "output_type": "stream",
     "text": [
      "-0.100231270169\n"
     ]
    },
    {
     "data": {
      "text/plain": [
       "<matplotlib.text.Text at 0x15e77390>"
      ]
     },
     "execution_count": 410,
     "metadata": {},
     "output_type": "execute_result"
    },
    {
     "data": {
      "image/png": "[encoded data removed]",
      "text/plain": [
       "<matplotlib.figure.Figure at 0x16db2430>"
      ]
     },
     "metadata": {},
     "output_type": "display_data"
    }
   ],
   "source": [
    "##To check the corelation coefficient\n",
    "print salaries_vs_ERA_df['salary'].corr(salaries_vs_ERA_df['ERA'])\n",
    "\n",
    "plt.scatter(salaries_vs_ERA_df['salary'],salaries_vs_ERA_df['ERA'])\n",
    "plt.xlabel('2014 Team Salary')\n",
    "plt.ylabel('2014 Team ERA')\n",
    "plt.title('Scatter plot to show the corelation between the team salary and the teams ERA for the 2014 baseball season')\n"
   ]
  },
  {
   "cell_type": "markdown",
   "metadata": {},
   "source": [
    "## Analysis of the team salaries to different baseball stats.\n",
    "\n",
    "   The goal of this project is to see if there is any corelation between the amount of money baseball teams spend on salaries and the baseball statistics acheived. I have used the scatter plots and manually calculation the Pearson's r to find the corelation. Below are the results\n",
    "   \n",
    "\n",
    "WINS\n",
    "\n",
    "Team Wins was the highest correlated basemball statistic with Team salary.\n",
    "The correlation value was .3224. This means that there was moderate positive correlation salaries and wins\n",
    "during the 2014 season. The scatter plot provided visual evidence of this finding, as the\n",
    "points were moderately clustered in a positive linear pattern. This result suggests that it\n",
    "might be important for teams to study the relationship between team wins  and\n",
    "salary. \n",
    "\n",
    "BATTING STATS\n",
    "\n",
    "The correlation value for batting average with team\n",
    "salary was 0.2542. This indicates that there was slight \n",
    "positive correlation during the 2014 season. The result from this computation shows that even though the higher the salary is the batting averages do increase but only slightly.\n",
    "Hence the teams might think if it the money spent on salaries is worth the retun.\n",
    "\n",
    "\n",
    "PITCHING STATS\n",
    "\n",
    "The correlation value for pitching statistic(ERA) with team\n",
    "salary was -0.1002. This indicates that there was very little \n",
    "negative correlation during the 2014 season. The result from this computation is surprising\n",
    "because as the team salary increased, the ERA should have reduced more significantly . \n",
    "Maybe this will give some thought for the teams when they are aquiring pitchers.\n",
    "\n",
    "\n",
    "    In conclusion I can see that we can see the best corelation between salaries and wins. But I also have to add that the above results are based only on one year of baseball stats and there is more than 100 years of data present. Hence though the results indicate in a certain direction further analysis is required with more comprehensive data t make conclusive predictions."
   ]
  },
  {
   "cell_type": "code",
   "execution_count": null,
   "metadata": {
    "collapsed": true
   },
   "outputs": [],
   "source": []
  }
 ],
 "metadata": {
  "anaconda-cloud": {},
  "kernelspec": {
   "display_name": "Python 3",
   "language": "python",
   "name": "python3"
  },
  "language_info": {
   "codemirror_mode": {
    "name": "ipython",
    "version": 3
   },
   "file_extension": ".py",
   "mimetype": "text/x-python",
   "name": "python",
   "nbconvert_exporter": "python",
   "pygments_lexer": "ipython3",
   "version": "3.6.3"
  }
 },
 "nbformat": 4,
 "nbformat_minor": 1
}
