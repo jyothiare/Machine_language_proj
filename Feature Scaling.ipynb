{
 "cells": [
  {
   "cell_type": "code",
   "execution_count": 1,
   "metadata": {
    "collapsed": true
   },
   "outputs": [],
   "source": [
    "#SKLEARN min/max feature scaling\n",
    "import sys\n",
    "sys.path.append(\"C:/JBasineni/Mach_learn/ud120-projects-master/ud120-projects-master/tools/\")\n",
    "sys.path.append('C:/JBasineni/Mach_learn/ud120-projects-master/ud120-projects-master/choose_your_own')\n",
    "sys.path.append('C:/JBasineni/Mach_learn/ud120-projects-master/ud120-projects-master/datasets_questions')\n",
    "\n",
    "import os\n",
    "os.chdir('C:/JBasineni/Mach_learn/ud120-projects-master/ud120-projects-master/outliers')\n",
    "\n",
    "\n",
    "import numpy as np\n",
    "from sklearn.preprocessing import MinMaxScaler\n",
    "\n",
    "weights = np.array([[115.], [140.], [175.]])\n",
    "scaler = MinMaxScaler()\n",
    "rescaled_weight = scaler.fit_transform(weights)"
   ]
  },
  {
   "cell_type": "code",
   "execution_count": 2,
   "metadata": {},
   "outputs": [
    {
     "name": "stdout",
     "output_type": "stream",
     "text": [
      "$200,000 becomes 0.17997620714541537\n",
      "$1,000,000 becomes 0.02911345115974015\n"
     ]
    }
   ],
   "source": [
    "# Computing rescaled Features\n",
    "\n",
    "import pickle\n",
    "import numpy\n",
    "#import matplotlib.pyplot as plt\n",
    "from feature_format import featureFormat, targetFeatureSplit\n",
    "\n",
    "### load in the dict of dicts containing all the data on each person in the dataset\n",
    "data_dict = pickle.load( open(\"../final_project/final_project_dataset.pkl\", \"rb\") )\n",
    "### there's an outlier--remove it! \n",
    "data_dict.pop(\"TOTAL\", 0)\n",
    "\n",
    "# the features to be used\n",
    "features_list = ['poi', 'salary', 'exercised_stock_options']\n",
    "\n",
    "data = featureFormat(data_dict, features_list)\n",
    "\n",
    "_, salary, stock = zip(*data)\n",
    "\n",
    "# put the features into 2-D numpy arrays\n",
    "salary = np.array(salary).reshape((len(salary),1))\n",
    "stock = np.array(stock).reshape((len(stock),1))\n",
    "\n",
    "# rescale\n",
    "scaler = MinMaxScaler()\n",
    "salary = scaler.fit_transform(salary)\n",
    "print ('$200,000 becomes {0}'.format(scaler.transform([[200000.]])[0][0]))\n",
    "\n",
    "stock = scaler.fit_transform(stock)\n",
    "print ('$1,000,000 becomes {0}'.format(scaler.transform([[1000000.]])[0][0]))\n"
   ]
  }
 ],
 "metadata": {
  "kernelspec": {
   "display_name": "Python 3",
   "language": "python",
   "name": "python3"
  },
  "language_info": {
   "codemirror_mode": {
    "name": "ipython",
    "version": 3
   },
   "file_extension": ".py",
   "mimetype": "text/x-python",
   "name": "python",
   "nbconvert_exporter": "python",
   "pygments_lexer": "ipython3",
   "version": "3.6.3"
  }
 },
 "nbformat": 4,
 "nbformat_minor": 2
}
